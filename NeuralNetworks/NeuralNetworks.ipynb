{
 "cells": [
  {
   "cell_type": "code",
   "execution_count": 1,
   "id": "c452e5cc",
   "metadata": {},
   "outputs": [],
   "source": [
    "import pandas as pd\n",
    "from sklearn.model_selection import train_test_split\n",
    "import tensorflow as tf\n",
    "import keras\n",
    "import matplotlib.pyplot as plt\n",
    "import numpy as np\n",
    "from sklearn.metrics import confusion_matrix\n",
    "import seaborn as sns\n",
    "from sklearn import preprocessing"
   ]
  },
  {
   "cell_type": "code",
   "execution_count": 2,
   "id": "9a1b3755",
   "metadata": {},
   "outputs": [],
   "source": [
    "df=pd.read_csv(\"exoplanets_features.csv\")\n",
    "df3=pd.read_csv(\"exoplanets_label.csv\")"
   ]
  },
  {
   "cell_type": "code",
   "execution_count": 3,
   "id": "6717645f",
   "metadata": {},
   "outputs": [],
   "source": [
    "df['label']=df3.iloc[:,0]"
   ]
  },
  {
   "cell_type": "code",
   "execution_count": 4,
   "id": "d2f2ccd6",
   "metadata": {},
   "outputs": [],
   "source": [
    "arr = []\n",
    "for col in df:\n",
    "    if abs(df['label'].corr(df[col]))<0.3:\n",
    "        arr.append(col)"
   ]
  },
  {
   "cell_type": "code",
   "execution_count": 5,
   "id": "c2656e05",
   "metadata": {},
   "outputs": [],
   "source": [
    "for i in arr:\n",
    "    df=df.drop([i],axis = 1)"
   ]
  },
  {
   "cell_type": "code",
   "execution_count": 6,
   "id": "221ae6c4",
   "metadata": {},
   "outputs": [],
   "source": [
    "x=df.iloc[:,0:5]\n",
    "y=df.iloc[:,5]"
   ]
  },
  {
   "cell_type": "code",
   "execution_count": 7,
   "id": "2ac70e89",
   "metadata": {},
   "outputs": [],
   "source": [
    "min_max_scaler = preprocessing.MinMaxScaler()\n",
    "x_scaled = min_max_scaler.fit_transform(x)"
   ]
  },
  {
   "cell_type": "code",
   "execution_count": 8,
   "id": "d05e94bf",
   "metadata": {},
   "outputs": [],
   "source": [
    "X_train, X_test, y_train, y_test = train_test_split(x_scaled, y, test_size=0.20, random_state=None)"
   ]
  },
  {
   "cell_type": "code",
   "execution_count": 9,
   "id": "b5f93a78",
   "metadata": {},
   "outputs": [],
   "source": [
    "model = tf.keras.models.Sequential([\n",
    "                                    tf.keras.layers.Dense(12, activation =  tf.nn.tanh),\n",
    "                                    tf.keras.layers.Dense(8, activation = tf.nn.tanh),\n",
    "                                    tf.keras.layers.Dense(1, activation = tf.nn.sigmoid)\n",
    "                                    ])"
   ]
  },
  {
   "cell_type": "code",
   "execution_count": 10,
   "id": "1594fea5",
   "metadata": {},
   "outputs": [],
   "source": [
    "model.compile(optimizer='adam',\n",
    "             loss='binary_crossentropy',\n",
    "             metrics=['accuracy'])"
   ]
  },
  {
   "cell_type": "code",
   "execution_count": 11,
   "id": "a64ac35f",
   "metadata": {},
   "outputs": [
    {
     "name": "stdout",
     "output_type": "stream",
     "text": [
      "Epoch 1/50\n",
      "196/196 [==============================] - 2s 2ms/step - loss: 0.3884 - accuracy: 0.9521\n",
      "Epoch 2/50\n",
      "196/196 [==============================] - 0s 2ms/step - loss: 0.1799 - accuracy: 0.9537\n",
      "Epoch 3/50\n",
      "196/196 [==============================] - 0s 2ms/step - loss: 0.1601 - accuracy: 0.9535\n",
      "Epoch 4/50\n",
      "196/196 [==============================] - 0s 2ms/step - loss: 0.1568 - accuracy: 0.9548\n",
      "Epoch 5/50\n",
      "196/196 [==============================] - 0s 2ms/step - loss: 0.1547 - accuracy: 0.9551\n",
      "Epoch 6/50\n",
      "196/196 [==============================] - 0s 2ms/step - loss: 0.1526 - accuracy: 0.9547\n",
      "Epoch 7/50\n",
      "196/196 [==============================] - 0s 2ms/step - loss: 0.1508 - accuracy: 0.9556\n",
      "Epoch 8/50\n",
      "196/196 [==============================] - 0s 2ms/step - loss: 0.1494 - accuracy: 0.9550\n",
      "Epoch 9/50\n",
      "196/196 [==============================] - 0s 2ms/step - loss: 0.1471 - accuracy: 0.9564\n",
      "Epoch 10/50\n",
      "196/196 [==============================] - 0s 2ms/step - loss: 0.1463 - accuracy: 0.9563\n",
      "Epoch 11/50\n",
      "196/196 [==============================] - 0s 2ms/step - loss: 0.1443 - accuracy: 0.9571\n",
      "Epoch 12/50\n",
      "196/196 [==============================] - 0s 2ms/step - loss: 0.1437 - accuracy: 0.9571\n",
      "Epoch 13/50\n",
      "196/196 [==============================] - 0s 2ms/step - loss: 0.1422 - accuracy: 0.9566\n",
      "Epoch 14/50\n",
      "196/196 [==============================] - 0s 2ms/step - loss: 0.1420 - accuracy: 0.9558\n",
      "Epoch 15/50\n",
      "196/196 [==============================] - 0s 2ms/step - loss: 0.1413 - accuracy: 0.9572\n",
      "Epoch 16/50\n",
      "196/196 [==============================] - 0s 2ms/step - loss: 0.1408 - accuracy: 0.9558\n",
      "Epoch 17/50\n",
      "196/196 [==============================] - 0s 2ms/step - loss: 0.1401 - accuracy: 0.9566\n",
      "Epoch 18/50\n",
      "196/196 [==============================] - 0s 2ms/step - loss: 0.1404 - accuracy: 0.9569\n",
      "Epoch 19/50\n",
      "196/196 [==============================] - 0s 2ms/step - loss: 0.1407 - accuracy: 0.9566\n",
      "Epoch 20/50\n",
      "196/196 [==============================] - 0s 2ms/step - loss: 0.1404 - accuracy: 0.9577\n",
      "Epoch 21/50\n",
      "196/196 [==============================] - 0s 2ms/step - loss: 0.1396 - accuracy: 0.9567\n",
      "Epoch 22/50\n",
      "196/196 [==============================] - 0s 2ms/step - loss: 0.1395 - accuracy: 0.9572\n",
      "Epoch 23/50\n",
      "196/196 [==============================] - 0s 2ms/step - loss: 0.1392 - accuracy: 0.9566\n",
      "Epoch 24/50\n",
      "196/196 [==============================] - 0s 2ms/step - loss: 0.1390 - accuracy: 0.9572\n",
      "Epoch 25/50\n",
      "196/196 [==============================] - 0s 2ms/step - loss: 0.1414 - accuracy: 0.9574\n",
      "Epoch 26/50\n",
      "196/196 [==============================] - 0s 2ms/step - loss: 0.1393 - accuracy: 0.9566\n",
      "Epoch 27/50\n",
      "196/196 [==============================] - 0s 2ms/step - loss: 0.1392 - accuracy: 0.9567\n",
      "Epoch 28/50\n",
      "196/196 [==============================] - 0s 2ms/step - loss: 0.1388 - accuracy: 0.9563\n",
      "Epoch 29/50\n",
      "196/196 [==============================] - 0s 2ms/step - loss: 0.1391 - accuracy: 0.9574\n",
      "Epoch 30/50\n",
      "196/196 [==============================] - 0s 2ms/step - loss: 0.1392 - accuracy: 0.9569\n",
      "Epoch 31/50\n",
      "196/196 [==============================] - 0s 2ms/step - loss: 0.1389 - accuracy: 0.9561\n",
      "Epoch 32/50\n",
      "196/196 [==============================] - 0s 2ms/step - loss: 0.1389 - accuracy: 0.9564\n",
      "Epoch 33/50\n",
      "196/196 [==============================] - 0s 2ms/step - loss: 0.1387 - accuracy: 0.9575\n",
      "Epoch 34/50\n",
      "196/196 [==============================] - 0s 2ms/step - loss: 0.1387 - accuracy: 0.9572\n",
      "Epoch 35/50\n",
      "196/196 [==============================] - 0s 2ms/step - loss: 0.1381 - accuracy: 0.9575\n",
      "Epoch 36/50\n",
      "196/196 [==============================] - 0s 2ms/step - loss: 0.1389 - accuracy: 0.9574\n",
      "Epoch 37/50\n",
      "196/196 [==============================] - 0s 2ms/step - loss: 0.1392 - accuracy: 0.9571\n",
      "Epoch 38/50\n",
      "196/196 [==============================] - 0s 2ms/step - loss: 0.1390 - accuracy: 0.9563\n",
      "Epoch 39/50\n",
      "196/196 [==============================] - 0s 2ms/step - loss: 0.1393 - accuracy: 0.9572\n",
      "Epoch 40/50\n",
      "196/196 [==============================] - 0s 2ms/step - loss: 0.1392 - accuracy: 0.9561\n",
      "Epoch 41/50\n",
      "196/196 [==============================] - 0s 2ms/step - loss: 0.1388 - accuracy: 0.9571\n",
      "Epoch 42/50\n",
      "196/196 [==============================] - 0s 2ms/step - loss: 0.1383 - accuracy: 0.9571\n",
      "Epoch 43/50\n",
      "196/196 [==============================] - 0s 2ms/step - loss: 0.1385 - accuracy: 0.9566\n",
      "Epoch 44/50\n",
      "196/196 [==============================] - 0s 2ms/step - loss: 0.1380 - accuracy: 0.9577\n",
      "Epoch 45/50\n",
      "196/196 [==============================] - 0s 2ms/step - loss: 0.1380 - accuracy: 0.9575\n",
      "Epoch 46/50\n",
      "196/196 [==============================] - 0s 2ms/step - loss: 0.1387 - accuracy: 0.9571\n",
      "Epoch 47/50\n",
      "196/196 [==============================] - 0s 2ms/step - loss: 0.1382 - accuracy: 0.9574\n",
      "Epoch 48/50\n",
      "196/196 [==============================] - 0s 2ms/step - loss: 0.1385 - accuracy: 0.9580\n",
      "Epoch 49/50\n",
      "196/196 [==============================] - 0s 2ms/step - loss: 0.1380 - accuracy: 0.9572\n",
      "Epoch 50/50\n",
      "196/196 [==============================] - 0s 2ms/step - loss: 0.1382 - accuracy: 0.9574\n"
     ]
    },
    {
     "data": {
      "text/plain": [
       "<keras.callbacks.History at 0x1ba7fa93370>"
      ]
     },
     "execution_count": 11,
     "metadata": {},
     "output_type": "execute_result"
    }
   ],
   "source": [
    "model.fit(X_train,y_train, epochs = 50)"
   ]
  },
  {
   "cell_type": "code",
   "execution_count": 12,
   "id": "7203a777",
   "metadata": {},
   "outputs": [
    {
     "name": "stdout",
     "output_type": "stream",
     "text": [
      "49/49 [==============================] - 0s 1ms/step\n"
     ]
    }
   ],
   "source": [
    "y_pred=model.predict(X_test)"
   ]
  },
  {
   "cell_type": "code",
   "execution_count": 13,
   "id": "b8c59e52",
   "metadata": {},
   "outputs": [],
   "source": [
    "pred=np.array(y_pred)"
   ]
  },
  {
   "cell_type": "code",
   "execution_count": 14,
   "id": "8c9ba403",
   "metadata": {},
   "outputs": [],
   "source": [
    "for i in range(len(y_test)):\n",
    "    if pred[i]>=0.5:\n",
    "        pred[i] = int(1)\n",
    "    else:\n",
    "        pred[i] = int(0)"
   ]
  },
  {
   "cell_type": "code",
   "execution_count": 15,
   "id": "7b181700",
   "metadata": {},
   "outputs": [],
   "source": [
    "pred=pred.astype(int)"
   ]
  },
  {
   "cell_type": "code",
   "execution_count": 16,
   "id": "2f88e911",
   "metadata": {},
   "outputs": [
    {
     "data": {
      "text/plain": [
       "array([[716,  29],\n",
       "       [ 53, 763]], dtype=int64)"
      ]
     },
     "execution_count": 16,
     "metadata": {},
     "output_type": "execute_result"
    }
   ],
   "source": [
    "confusion_matrix(y_test, pred)"
   ]
  }
 ],
 "metadata": {
  "kernelspec": {
   "display_name": "Python 3.10.8 64-bit (microsoft store)",
   "language": "python",
   "name": "python3"
  },
  "language_info": {
   "codemirror_mode": {
    "name": "ipython",
    "version": 3
   },
   "file_extension": ".py",
   "mimetype": "text/x-python",
   "name": "python",
   "nbconvert_exporter": "python",
   "pygments_lexer": "ipython3",
   "version": "3.10.8"
  },
  "vscode": {
   "interpreter": {
    "hash": "9fd7e3ae635831b98cf4fbe57a183e0e74122ad8c8aea645a37ebc791189de0b"
   }
  }
 },
 "nbformat": 4,
 "nbformat_minor": 5
}
